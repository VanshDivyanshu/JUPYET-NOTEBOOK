{
  "metadata": {
    "kernelspec": {
      "name": "python",
      "display_name": "Python (Pyodide)",
      "language": "python"
    },
    "language_info": {
      "codemirror_mode": {
        "name": "python",
        "version": 3
      },
      "file_extension": ".py",
      "mimetype": "text/x-python",
      "name": "python",
      "nbconvert_exporter": "python",
      "pygments_lexer": "ipython3",
      "version": "3.8"
    }
  },
  "nbformat_minor": 4,
  "nbformat": 4,
  "cells": [
    {
      "cell_type": "code",
      "source": "import pandas as pd\n\n# Create DataFrame 1\ndf1 = pd.DataFrame({\n    'key': ['A', 'B', 'C', 'D'],\n    'value1': [1, 2, 3, 4]\n})\n\n# Create DataFrame 2\ndf2 = pd.DataFrame({\n    'key': ['B', 'D', 'E', 'F'],\n    'value2': [5, 6, 7, 8]\n})\n\nprint(\"DataFrame 1:\\n\", df1)\nprint(\"\\nDataFrame 2:\\n\", df2)\n\n# Merge DataFrames using an inner join\nmerged_inner = pd.merge(df1, df2, on='key', how='inner')\nprint(\"\\nMerged DataFrame (Inner Join):\\n\", merged_inner)\n\n# Merge DataFrames using an outer join\nmerged_outer = pd.merge(df1, df2, on='key', how='outer')\nprint(\"\\nMerged DataFrame (Outer Join):\\n\", merged_outer)\n\n# Merge DataFrames using a left join\nmerged_left = pd.merge(df1, df2, on='key', how='left')\nprint(\"\\nMerged DataFrame (Left Join):\\n\", merged_left)\n\n# Merge DataFrames using a right join\nmerged_right = pd.merge(df1, df2, on='key', how='right')\nprint(\"\\nMerged DataFrame (Right Join):\\n\", merged_right)\n\n# Set 'key' as the index for df1 and df2\ndf1.set_index('key', inplace=True)\ndf2.set_index('key', inplace=True)\n\n# Join DataFrames using inner join\njoined_inner = df1.join(df2, how='inner')\nprint(\"\\nJoined DataFrame (Inner Join):\\n\", joined_inner)\n\n# Join DataFrames using outer join\njoined_outer = df1.join(df2, how='outer')\nprint(\"\\nJoined DataFrame (Outer Join):\\n\", joined_outer)\n\n# Reset index for the next example\ndf1.reset_index(inplace=True)\ndf2.reset_index(inplace=True)\n\n# Concatenate DataFrames along rows\nconcat_rows = pd.concat([df1, df2], axis=0, ignore_index=True)\nprint(\"\\nConcatenated DataFrame (Rows):\\n\", concat_rows)\n\n# Concatenate DataFrames along columns\nconcat_cols = pd.concat([df1, df2], axis=1)\nprint(\"\\nConcatenated DataFrame (Columns):\\n\", concat_cols)\n\n# Concatenate with keys\nconcat_keys = pd.concat([df1, df2], axis=0, keys=['df1', 'df2'])\nprint(\"\\nConcatenated DataFrame with Keys:\\n\", concat_keys)",
      "metadata": {
        "trusted": true
      },
      "outputs": [
        {
          "name": "stderr",
          "text": "<ipython-input-1-d95ed788cef1>:1: DeprecationWarning: \nPyarrow will become a required dependency of pandas in the next major release of pandas (pandas 3.0),\n(to allow more performant data types, such as the Arrow string type, and better interoperability with other libraries)\nbut was not found to be installed on your system.\nIf this would cause problems for you,\nplease provide us feedback at https://github.com/pandas-dev/pandas/issues/54466\n        \n  import pandas as pd\n",
          "output_type": "stream"
        },
        {
          "name": "stdout",
          "text": "DataFrame 1:\n   key  value1\n0   A       1\n1   B       2\n2   C       3\n3   D       4\n\nDataFrame 2:\n   key  value2\n0   B       5\n1   D       6\n2   E       7\n3   F       8\n\nMerged DataFrame (Inner Join):\n   key  value1  value2\n0   B       2       5\n1   D       4       6\n\nMerged DataFrame (Outer Join):\n   key  value1  value2\n0   A     1.0     NaN\n1   B     2.0     5.0\n2   C     3.0     NaN\n3   D     4.0     6.0\n4   E     NaN     7.0\n5   F     NaN     8.0\n\nMerged DataFrame (Left Join):\n   key  value1  value2\n0   A       1     NaN\n1   B       2     5.0\n2   C       3     NaN\n3   D       4     6.0\n\nMerged DataFrame (Right Join):\n   key  value1  value2\n0   B     2.0       5\n1   D     4.0       6\n2   E     NaN       7\n3   F     NaN       8\n\nJoined DataFrame (Inner Join):\n      value1  value2\nkey                \nB         2       5\nD         4       6\n\nJoined DataFrame (Outer Join):\n      value1  value2\nkey                \nA       1.0     NaN\nB       2.0     5.0\nC       3.0     NaN\nD       4.0     6.0\nE       NaN     7.0\nF       NaN     8.0\n\nConcatenated DataFrame (Rows):\n   key  value1  value2\n0   A     1.0     NaN\n1   B     2.0     NaN\n2   C     3.0     NaN\n3   D     4.0     NaN\n4   B     NaN     5.0\n5   D     NaN     6.0\n6   E     NaN     7.0\n7   F     NaN     8.0\n\nConcatenated DataFrame (Columns):\n   key  value1 key  value2\n0   A       1   B       5\n1   B       2   D       6\n2   C       3   E       7\n3   D       4   F       8\n\nConcatenated DataFrame with Keys:\n       key  value1  value2\ndf1 0   A     1.0     NaN\n    1   B     2.0     NaN\n    2   C     3.0     NaN\n    3   D     4.0     NaN\ndf2 0   B     NaN     5.0\n    1   D     NaN     6.0\n    2   E     NaN     7.0\n    3   F     NaN     8.0\n",
          "output_type": "stream"
        }
      ],
      "execution_count": 1
    },
    {
      "cell_type": "code",
      "source": "",
      "metadata": {
        "trusted": true
      },
      "outputs": [],
      "execution_count": null
    }
  ]
}
