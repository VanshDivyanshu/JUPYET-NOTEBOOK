{
  "metadata": {
    "kernelspec": {
      "name": "python",
      "display_name": "Python (Pyodide)",
      "language": "python"
    },
    "language_info": {
      "codemirror_mode": {
        "name": "python",
        "version": 3
      },
      "file_extension": ".py",
      "mimetype": "text/x-python",
      "name": "python",
      "nbconvert_exporter": "python",
      "pygments_lexer": "ipython3",
      "version": "3.8"
    }
  },
  "nbformat_minor": 4,
  "nbformat": 4,
  "cells": [
    {
      "cell_type": "code",
      "source": "import pandas as pd\ndata=[12,5,34,40]\ns=pd.Series(data)\nprint(s)",
      "metadata": {
        "trusted": true
      },
      "outputs": [
        {
          "name": "stdout",
          "text": "0    12\n1     5\n2    34\n3    40\ndtype: int64\n",
          "output_type": "stream"
        }
      ],
      "execution_count": 14
    },
    {
      "cell_type": "code",
      "source": "import pandas as pd\ndata=[10,20,30,40]\ns=pd.Series([10,20,30,40],index=['a','b','c','d'])\nprint(s)",
      "metadata": {
        "trusted": true
      },
      "outputs": [
        {
          "name": "stdout",
          "text": "a    10\nb    20\nc    30\nd    40\ndtype: int64\n",
          "output_type": "stream"
        }
      ],
      "execution_count": 11
    },
    {
      "cell_type": "code",
      "source": "import numpy as np\narr=np.array([1,2,3,4])\ns=pd.Series(arr)\nprint(arr)",
      "metadata": {
        "trusted": true
      },
      "outputs": [
        {
          "name": "stdout",
          "text": "[1 2 3 4]\n",
          "output_type": "stream"
        }
      ],
      "execution_count": 13
    },
    {
      "cell_type": "code",
      "source": "data={'a':100,'b':200,'c':300}\ns=pd.Series(data)\nprint(s)",
      "metadata": {
        "trusted": true
      },
      "outputs": [
        {
          "name": "stdout",
          "text": "a    100\nb    200\nc    300\ndtype: int64\n",
          "output_type": "stream"
        }
      ],
      "execution_count": 18
    },
    {
      "cell_type": "code",
      "source": "s=pd.Series(5,index=['a','b','c','d'])\nprint(s)",
      "metadata": {
        "trusted": true
      },
      "outputs": [
        {
          "name": "stdout",
          "text": "a    5\nb    5\nc    5\nd    5\ndtype: int64\n",
          "output_type": "stream"
        }
      ],
      "execution_count": 19
    },
    {
      "cell_type": "code",
      "source": "import pandas as pd\nsf_data=[(1,'neha',30,'sonipat'),\n         (2,'adi',30,'delhi'),\n          (3,'riya',20,'chandigarh'),\n           (4,'soniya',30,'gurugram'),\n            (5,'panda',30,'khetawas')]\ndf=pd.DataFrame(sf_data,columns=['roll_no','name','age','address'])\ndf.head(5)\ndf.tail(2)\ndf.shape\ndf.columns\ndf.size\ndf.values\ndf.index\ndf.age\ndf.age,'address'\ndf.loc[[0]]\ndf.loc[[0,1,2]]\ndf.iloc[[0]]\ndf[df['age']<30]\ndf['phone_no']=[10,20,30,40,50]\ndf['status']='yes'\ndf\ndf['account']='null'\n\ndf=df.drop(columns=['phone_no'])\ndf=df.drop(columns=['age','account'])\ndf.insert(3,'phone_no',[10,20,30,40,50])\ndf=df.rename(columns={'phone_no':'contact_no'})\ndf=df.drop(4)\ndf.loc[4]=[5,'rinki','gurgaon',30,'yes']\ndf.loc[2,'age']=71\ndf['age']=30\ndf.loc[[0,2],'address']=['banglore','hydrabad']\n\ndf\n\n\n\n         \n\n",
      "metadata": {
        "trusted": true
      },
      "outputs": [
        {
          "execution_count": 92,
          "output_type": "execute_result",
          "data": {
            "text/plain": "   roll_no    name     address status\n0        1    neha     sonipat    yes\n1        2     adi       delhi    yes\n2        3    riya  chandigarh    yes\n3        4  soniya    gurugram    yes\n4        5   panda    khetawas    yes",
            "text/html": "<div>\n<style scoped>\n    .dataframe tbody tr th:only-of-type {\n        vertical-align: middle;\n    }\n\n    .dataframe tbody tr th {\n        vertical-align: top;\n    }\n\n    .dataframe thead th {\n        text-align: right;\n    }\n</style>\n<table border=\"1\" class=\"dataframe\">\n  <thead>\n    <tr style=\"text-align: right;\">\n      <th></th>\n      <th>roll_no</th>\n      <th>name</th>\n      <th>address</th>\n      <th>status</th>\n    </tr>\n  </thead>\n  <tbody>\n    <tr>\n      <th>0</th>\n      <td>1</td>\n      <td>neha</td>\n      <td>sonipat</td>\n      <td>yes</td>\n    </tr>\n    <tr>\n      <th>1</th>\n      <td>2</td>\n      <td>adi</td>\n      <td>delhi</td>\n      <td>yes</td>\n    </tr>\n    <tr>\n      <th>2</th>\n      <td>3</td>\n      <td>riya</td>\n      <td>chandigarh</td>\n      <td>yes</td>\n    </tr>\n    <tr>\n      <th>3</th>\n      <td>4</td>\n      <td>soniya</td>\n      <td>gurugram</td>\n      <td>yes</td>\n    </tr>\n    <tr>\n      <th>4</th>\n      <td>5</td>\n      <td>panda</td>\n      <td>khetawas</td>\n      <td>yes</td>\n    </tr>\n  </tbody>\n</table>\n</div>"
          },
          "metadata": {}
        }
      ],
      "execution_count": 92
    },
    {
      "cell_type": "code",
      "source": "",
      "metadata": {
        "trusted": true
      },
      "outputs": [],
      "execution_count": null
    }
  ]
}
