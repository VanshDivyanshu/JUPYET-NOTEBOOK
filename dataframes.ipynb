{
  "metadata": {
    "kernelspec": {
      "name": "python",
      "display_name": "Python (Pyodide)",
      "language": "python"
    },
    "language_info": {
      "codemirror_mode": {
        "name": "python",
        "version": 3
      },
      "file_extension": ".py",
      "mimetype": "text/x-python",
      "name": "python",
      "nbconvert_exporter": "python",
      "pygments_lexer": "ipython3",
      "version": "3.8"
    }
  },
  "nbformat_minor": 5,
  "nbformat": 4,
  "cells": [
    {
      "id": "37fec267-9b7d-415a-b0c0-98160e075c03",
      "cell_type": "code",
      "source": "import pandas as pd\n\n# Create EmployeeDetails DataFrame\nemployee_details_data = {\n    \"EmpId\": [121, 321, 421],\n    \"FullName\": [\"John Snow\", \"Walter White\", \"Kuldeep Rana\"],\n    \"ManagerId\": [321, 986, 876],\n    \"DateOfJoining\": [\"01/31/2019\", \"01/30/2020\", \"27/11/2021\"],\n    \"City\": [\"Toronto\", \"California\", \"New Delhi\"]\n}\n\nemployee_details_df = pd.DataFrame(employee_details_data)\n\n# Create EmployeeSalary DataFrame\nemployee_salary_data = {\n    \"EmpId\": [121, 321, 421],\n    \"Project\": [\"P1\", \"P2\", \"P1\"],\n    \"Salary\": [8000, 10000, 12000],\n    \"Variable\": [500, 1000, 0]\n}\n\nemployee_salary_df = pd.DataFrame(employee_salary_data)\n\n# Store both dataframes in CSV files\nemployee_details_df.to_csv('employee_details.csv', index=False)\nemployee_salary_df.to_csv('employee_salary.csv', index=False)\n\nemployee_details_df2 = pd.read_csv('employee_details.csv')\nemployee_salary_df2 = pd.read_csv('employee_salary.csv')",
      "metadata": {
        "trusted": true
      },
      "outputs": [],
      "execution_count": null
    },
    {
      "id": "9ee30f3e-f446-4810-9e18-0ee4258d5652",
      "cell_type": "code",
      "source": "",
      "metadata": {
        "trusted": true
      },
      "outputs": [],
      "execution_count": null
    }
  ]
}